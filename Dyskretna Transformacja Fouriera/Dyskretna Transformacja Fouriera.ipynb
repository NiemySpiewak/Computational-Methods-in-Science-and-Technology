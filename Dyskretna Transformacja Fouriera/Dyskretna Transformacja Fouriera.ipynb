{
 "cells": [
  {
   "cell_type": "markdown",
   "id": "35f9ca3b-1f1f-420b-beb3-2b3422f21bc2",
   "metadata": {},
   "source": [
    "#### Dyskretna Transformacja Fouriera (DFT)"
   ]
  },
  {
   "cell_type": "markdown",
   "id": "a9a081a8-eda3-4ad4-bebc-12c2aacecf55",
   "metadata": {},
   "source": [
    "Na wejściu dostajemy wektor x, który ma n elementów. Na wyjściu oczekujemy wektora y, który również ma n elementów. Wektor y to wynik transformacji, wartości w tym wektorze są napewno zespolone. y = F_n * x"
   ]
  },
  {
   "cell_type": "code",
   "execution_count": 44,
   "id": "cfa0fbdc-3567-4434-a535-df51e4a32559",
   "metadata": {},
   "outputs": [],
   "source": [
    "import math\n",
    "import numpy as np\n",
    "import time"
   ]
  },
  {
   "cell_type": "markdown",
   "id": "f86fc7d0-5237-4bc2-bfae-2e8473f89a2e",
   "metadata": {},
   "source": [
    "Pierwszym krokiem jest obliczenie ksi (czynnik skracający), ze wzoru: ξ = e^(-2πi/n) = cos(2π/n) - i sin(2π/n)"
   ]
  },
  {
   "cell_type": "code",
   "execution_count": 29,
   "id": "5a2a4219-95ef-487e-bd14-d204fd4f6fca",
   "metadata": {},
   "outputs": [],
   "source": [
    "def calculate_ksi(n):\n",
    "    angle = 2 * np.pi / n\n",
    "    real = np.cos(angle)\n",
    "    imaginary = -np.sin(angle)\n",
    "    ksi = complex(real, imaginary)\n",
    "    return ksi"
   ]
  },
  {
   "cell_type": "markdown",
   "id": "bbad430b-4b74-4e27-9407-e436a10ad49d",
   "metadata": {},
   "source": [
    "Drugim krokiem jest konstrukcja macierzy Fouriera F_n. Macierz ma wymiary n x n. Element macierzy w j-tym wierszu i k-tej kolumnie to [F_n]_jk = ξ^(j*k)"
   ]
  },
  {
   "cell_type": "code",
   "execution_count": 30,
   "id": "01b1ad22-cc28-4d9f-a15f-5b59e0a2f5e1",
   "metadata": {},
   "outputs": [],
   "source": [
    "def create_matrix(n):\n",
    "    ksi = calculate_ksi(n)\n",
    "    matrix = np.zeros((n,n),dtype=complex)\n",
    "    for k in range (0,n):\n",
    "        for j in range (0,n):\n",
    "            potega = j * k\n",
    "            t = ksi ** potega\n",
    "            matrix[j,k] = t\n",
    "    return matrix"
   ]
  },
  {
   "cell_type": "markdown",
   "id": "380cf6a4-9a34-4e99-8b8d-e2f753dfe1c4",
   "metadata": {},
   "source": [
    "Trzecim krokiem jest mnożenie macierzy F_n przez wektor x (aby uzyskać y)"
   ]
  },
  {
   "cell_type": "code",
   "execution_count": 31,
   "id": "c9b68aaf-051d-420b-8e8e-58743c3a5e91",
   "metadata": {},
   "outputs": [],
   "source": [
    "def DFT(x):\n",
    "    n = x.shape[0]\n",
    "    return create_matrix(n) @ x    "
   ]
  },
  {
   "cell_type": "markdown",
   "id": "32ae3bb9-264c-4024-bf6d-02bdacebf7bc",
   "metadata": {},
   "source": [
    "Test:"
   ]
  },
  {
   "cell_type": "code",
   "execution_count": 32,
   "id": "c98e1bb4-24fe-4eae-b340-52f42acd148c",
   "metadata": {},
   "outputs": [
    {
     "name": "stdout",
     "output_type": "stream",
     "text": [
      "[14.+0.0000000e+00j -2.+2.0000000e+00j -2.-1.2246468e-15j\n",
      " -2.-2.0000000e+00j]\n"
     ]
    }
   ],
   "source": [
    "x = np.array([2, 3, 4, 5])\n",
    "print(DFT(x))"
   ]
  },
  {
   "cell_type": "code",
   "execution_count": 33,
   "id": "2f56c2aa-1d3d-47c4-bcaa-4942efb99367",
   "metadata": {},
   "outputs": [
    {
     "name": "stdout",
     "output_type": "stream",
     "text": [
      "[14.+0.j -2.+2.j -2.+0.j -2.-2.j]\n"
     ]
    }
   ],
   "source": [
    "r = np.fft.fft(x)\n",
    "print(r)"
   ]
  },
  {
   "cell_type": "markdown",
   "id": "9dcf64cf-24f1-4d11-a986-f76a59089582",
   "metadata": {},
   "source": [
    "####  Odwrotna Dyskretna Transformacja Fouriera (IDFT)"
   ]
  },
  {
   "cell_type": "markdown",
   "id": "4c386b5b-7bc7-45c8-8543-99ca3c972867",
   "metadata": {},
   "source": [
    "Cel: Zaimplementować funkcję, która oblicza IDFT wektora y (który jest wynikiem DFT) i zwraca oryginalny wektor x.\n",
    "\n",
    "F_n^(-1) * y == sprzężenie_zespolone((F_n * sprzężenie_zespolone(y))) / n"
   ]
  },
  {
   "cell_type": "code",
   "execution_count": 34,
   "id": "a8a7c0f7-275a-4ba6-8dfd-1cc6b8885e98",
   "metadata": {},
   "outputs": [],
   "source": [
    "def IDFT(y):\n",
    "    n = y.shape[0]\n",
    "    #sprzężenie:\n",
    "    y_conj = np.conjugate(y)\n",
    "    \n",
    "    F_n = create_matrix(n)\n",
    "    x = np.conjugate(y_conj @ F_n) /n\n",
    "    return x"
   ]
  },
  {
   "cell_type": "code",
   "execution_count": 35,
   "id": "f95f00c8-eae5-491f-8345-289034f77d68",
   "metadata": {},
   "outputs": [
    {
     "name": "stdout",
     "output_type": "stream",
     "text": [
      "[2.-0.00000000e+00j 3.+1.14423775e-17j 4.-1.22464680e-16j\n",
      " 5.-5.33927493e-16j]\n"
     ]
    }
   ],
   "source": [
    "print(IDFT(r))"
   ]
  },
  {
   "cell_type": "code",
   "execution_count": 36,
   "id": "4b22b639-05c3-4784-94ed-ded1e3d05d52",
   "metadata": {},
   "outputs": [
    {
     "name": "stdout",
     "output_type": "stream",
     "text": [
      "[2.+0.j 3.+0.j 4.+0.j 5.+0.j]\n"
     ]
    }
   ],
   "source": [
    "print(np.fft.ifft(r))"
   ]
  },
  {
   "cell_type": "markdown",
   "id": "ebef3a11-1121-4325-a44c-44fe5a20a577",
   "metadata": {},
   "source": [
    "#### Algorytm Cooleya-Turkeya"
   ]
  },
  {
   "cell_type": "markdown",
   "id": "f9ed88e2-18fe-4666-be41-b64b0de9589a",
   "metadata": {},
   "source": [
    "Implementacja rekurencyjnego algorytmu Cooleya-Tukeya to klasyczne zadanie pokazujące moc algorytmów \"dziel i zwyciężaj\" w kontekście FFT.\n",
    "Idea jest następująca:\r\n",
    "DFT N-punktowego sygnału x można wyrazić za pomocą dwóch DFT N/2-punktowych."
   ]
  },
  {
   "cell_type": "markdown",
   "id": "2f87df0d-7935-4185-8d32-eab10ba6e5e4",
   "metadata": {},
   "source": [
    "Definicja Dyskretnej Transformacji Fouriera (DFT) dla $N$-punktowego sygnału $x_j$:\n",
    "$$X_k = \\sum_{j=0}^{N-1} x_j \\cdot e^{-2\\pi i \\cdot jk / N} \\quad \\text{dla } k = 0, \\ldots, N-1$$\n",
    "\n",
    "Rozdzielamy sumę na wyrazy o indeksach parzystych ($j = 2m$) i nieparzystych ($j = 2m+1$). Zakładamy, że $N$ jest parzyste.\n",
    "$$X_k = \\sum_{m=0}^{N/2-1} x_{2m} \\cdot e^{-2\\pi i \\cdot (2m)k / N} + \\sum_{m=0}^{N/2-1} x_{2m+1} \\cdot e^{-2\\pi i \\cdot (2m+1)k / N}$$\n",
    "\n",
    "Upraszczamy wykładniki:\n",
    "Dla wyrazów parzystych:\n",
    "$$e^{-2\\pi i \\cdot (2m)k / N} = e^{-2\\pi i \\cdot mk / (N/2)}$$\n",
    "Dla wyrazów nieparzystych:\n",
    "$$e^{-2\\pi i \\cdot (2m+1)k / N} = e^{-2\\pi i \\cdot (2mk + k) / N} = e^{-2\\pi i \\cdot k / N} \\cdot e^{-2\\pi i \\cdot 2mk / N} = e^{-2\\pi i \\cdot k / N} \\cdot e^{-2\\pi i \\cdot mk / (N/2)}$$\n",
    "\n",
    "Niech $W_N^k = e^{-2\\pi i \\cdot k / N}$ to tzw. \"czynnik skręcający\" (twiddle factor).\n",
    "Zauważmy, że $W_N^{2k} = e^{-2\\pi i \\cdot 2k / N} = e^{-2\\pi i \\cdot k / (N/2)} = W_{N/2}^k$.\n",
    "\n",
    "Podstawiając, otrzymujemy:\n",
    "$$X_k = \\sum_{m=0}^{N/2-1} x_{2m} \\cdot W_{N/2}^{mk} + W_N^k \\cdot \\sum_{m=0}^{N/2-1} x_{2m+1} \\cdot W_{N/2}^{mk}$$\n",
    "\n",
    "Pierwsza suma to DFT $(N/2)$-punktowego sygnału złożonego z parzystych próbek $x$ (oznaczmy ją $E_k = \\text{DFT}(x_{\\text{even}})$).\n",
    "Druga suma (bez $W_N^k$) to DFT $(N/2)$-punktowego sygnału złożonego z nieparzystych próbek $x$ (oznaczmy ją $O_k = \\text{DFT}(x_{\\text{odd}})$).\n",
    "\n",
    "Zatem:\n",
    "$$X_k = E_k + W_N^k \\cdot O_k$$\n",
    "\n",
    "Ta formuła oblicza pierwsze $N/2$ wartości $X_k$ (dla $k = 0, \\ldots, N/2 - 1$).\n",
    "Dla pozostałych $N/2$ wartości (tzn. dla $k' = k + N/2$, gdzie $k = 0, \\ldots, N/2 - 1$), wykorzystujemy właściwości:\n",
    "1.  Okresowości $E_k$ i $O_k$: $E_{k+N/2} = E_k$ oraz $O_{k+N/2} = O_k$ (ponieważ $E_k$ i $O_k$ są transformatami $(N/2)$-punktowymi).\n",
    "2.  Właściwość czynnika skręcającego: $W_N^{k+N/2} = W_N^k \\cdot W_N^{N/2} = W_N^k \\cdot e^{-2\\pi i \\cdot (N/2) / N} = W_N^k \\cdot e^{-\\pi i} = W_N^k \\cdot (-1) = -W_N^k$.\n",
    "\n",
    "Zatem dla $k' = k + N/2$:\n",
    "$$X_{k+N/2} = E_{k+N/2} + W_N^{k+N/2} \\cdot O_{k+N/2}$$\n",
    "$$X_{k+N/2} = E_k - W_N^k \\cdot O_k$$\n",
    "\n",
    "Te dwie formuły są sercem rekurencji dla $k = 0, \\ldots, N/2 - 1$:\n",
    "1.  $X_k = E_k + W_N^k \\cdot O_k$\n",
    "2.  $X_{k+N/2} = E_k - W_N^k \\cdot O_k$"
   ]
  },
  {
   "cell_type": "code",
   "execution_count": 37,
   "id": "85b8e237-2308-4458-b89c-27f8b06aa010",
   "metadata": {},
   "outputs": [],
   "source": [
    "def fourierDiag(n):\n",
    "    e = complex(math.cos(2*math.pi / n), - math.sin(2 * math.pi / n))\n",
    "    return np.array([np.power(e, i) for i in range(n//2)], dtype=complex)"
   ]
  },
  {
   "cell_type": "code",
   "execution_count": 38,
   "id": "0bc563cc-4590-48b8-9e55-5c9535098786",
   "metadata": {},
   "outputs": [],
   "source": [
    "def fft_recursive(x):\n",
    "    n = x.shape[0]\n",
    "    if n == 2:\n",
    "        return DFT(x)\n",
    "    else:\n",
    "        x_even = x[::2]\n",
    "        x_odd = x[1::2]\n",
    "        d = fourierDiag(n)\n",
    "        \n",
    "        E = myFFT(x_even)\n",
    "        O = myFFT(x_odd)\n",
    "        return np.append(E + (d * O), E - (d * O))"
   ]
  },
  {
   "cell_type": "code",
   "execution_count": 43,
   "id": "b010fb90-555c-4ce9-b290-a8a5a718fd73",
   "metadata": {},
   "outputs": [
    {
     "data": {
      "text/plain": [
       "array([14.+0.j, -2.+2.j, -2.+0.j, -2.-2.j])"
      ]
     },
     "execution_count": 43,
     "metadata": {},
     "output_type": "execute_result"
    }
   ],
   "source": [
    "fft_recursive(x)"
   ]
  },
  {
   "cell_type": "code",
   "execution_count": 45,
   "id": "19724b74-fb6e-43cf-9aa4-7792a09cc571",
   "metadata": {},
   "outputs": [
    {
     "name": "stdout",
     "output_type": "stream",
     "text": [
      "Czas mojej FFT: 0.02252823 s\n",
      "Czas NumPy FFT: 0.00004282 s\n",
      "Czy wyniki są bliskie? True\n"
     ]
    }
   ],
   "source": [
    "if __name__ == '__main__':\n",
    "    x_test1 = np.random.rand(1024)\n",
    "\n",
    "    start_time_my = time.perf_counter()\n",
    "    X_test1_my = fft_recursive(x_test1)\n",
    "    end_time_my = time.perf_counter()\n",
    "    czas_my_1 = end_time_my - start_time_my\n",
    "\n",
    "    start_time_np = time.perf_counter()\n",
    "    X_test1_np = np.fft.fft(x_test1)\n",
    "    end_time_np = time.perf_counter()\n",
    "    czas_np_1 = end_time_np - start_time_np\n",
    "    print(f\"Czas mojej FFT: {czas_my_1:.8f} s\")\n",
    "    print(f\"Czas NumPy FFT: {czas_np_1:.8f} s\")\n",
    "    print(f\"Czy wyniki są bliskie? {np.allclose(X_test1_my, X_test1_np)}\")"
   ]
  },
  {
   "cell_type": "code",
   "execution_count": null,
   "id": "1a9d6765-ac31-45e2-88cb-241ea8841b33",
   "metadata": {},
   "outputs": [],
   "source": []
  }
 ],
 "metadata": {
  "kernelspec": {
   "display_name": "Python 3 (ipykernel)",
   "language": "python",
   "name": "python3"
  },
  "language_info": {
   "codemirror_mode": {
    "name": "ipython",
    "version": 3
   },
   "file_extension": ".py",
   "mimetype": "text/x-python",
   "name": "python",
   "nbconvert_exporter": "python",
   "pygments_lexer": "ipython3",
   "version": "3.10.4"
  }
 },
 "nbformat": 4,
 "nbformat_minor": 5
}
